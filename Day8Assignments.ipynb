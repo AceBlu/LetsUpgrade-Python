{
  "nbformat": 4,
  "nbformat_minor": 0,
  "metadata": {
    "colab": {
      "name": "Day8Assignments.ipynb",
      "provenance": [],
      "authorship_tag": "ABX9TyOepDRM6577Nw4A66ZkEPLT",
      "include_colab_link": true
    },
    "kernelspec": {
      "name": "python3",
      "display_name": "Python 3"
    }
  },
  "cells": [
    {
      "cell_type": "markdown",
      "metadata": {
        "id": "view-in-github",
        "colab_type": "text"
      },
      "source": [
        "<a href=\"https://colab.research.google.com/github/AceBlu/LetsUpgrade-Python/blob/master/Day8Assignments.ipynb\" target=\"_parent\"><img src=\"https://colab.research.google.com/assets/colab-badge.svg\" alt=\"Open In Colab\"/></a>"
      ]
    },
    {
      "cell_type": "markdown",
      "metadata": {
        "id": "_KXVcB0yomjD",
        "colab_type": "text"
      },
      "source": [
        "#DAY 8\n",
        "\n",
        "\n",
        "\n",
        "*   Question 1\n",
        "\n",
        "\n",
        "\n"
      ]
    },
    {
      "cell_type": "code",
      "metadata": {
        "id": "YOxN-rAZojj-",
        "colab_type": "code",
        "colab": {
          "base_uri": "https://localhost:8080/",
          "height": 187
        },
        "outputId": "7c075a93-c267-4288-da25-d41ac88fd7fa"
      },
      "source": [
        "def getInput(calculate_arg_fun):\n",
        "    \n",
        "    def wrap_function():\n",
        "      upper=int(input(\"Input Upper Limit : \"))        \n",
        "      calculate_arg_fun(upper)   \n",
        "    \n",
        "    return wrap_function\n",
        "@getInput\n",
        "def EvenFinder(n):\n",
        "  n1, n2 = 0, 1\n",
        "  count = 0\n",
        "  if n <= 0:\n",
        "    print(\"Please enter a positive integer\")\n",
        "  elif n == 1:\n",
        "    print(\"Fibonacci sequence upto\",n,\":\")\n",
        "    print(n1)\n",
        "  else:\n",
        "    print(\"Fibonacci sequence:\")\n",
        "  while count < n:\n",
        "       print(n1)\n",
        "       nth = n1 + n2\n",
        "       n1 = n2\n",
        "       n2 = nth\n",
        "       count += 1\n",
        "EvenFinder()"
      ],
      "execution_count": 21,
      "outputs": [
        {
          "output_type": "stream",
          "text": [
            "Input Upper Limit : 8\n",
            "Fibonacci sequence:\n",
            "0\n",
            "1\n",
            "1\n",
            "2\n",
            "3\n",
            "5\n",
            "8\n",
            "13\n"
          ],
          "name": "stdout"
        }
      ]
    },
    {
      "cell_type": "markdown",
      "metadata": {
        "id": "3YqVbcBXpWXs",
        "colab_type": "text"
      },
      "source": [
        " \n",
        "\n",
        "*   Question 2\n",
        "\n",
        "\n"
      ]
    },
    {
      "cell_type": "code",
      "metadata": {
        "id": "zForRg09piS8",
        "colab_type": "code",
        "colab": {
          "base_uri": "https://localhost:8080/",
          "height": 34
        },
        "outputId": "94a3119a-76a1-40e0-b2cb-d4858d0acb76"
      },
      "source": [
        "%%writefile demo.txt\n",
        "Hy my name is Amisha\n",
        "I am 18 years old"
      ],
      "execution_count": 22,
      "outputs": [
        {
          "output_type": "stream",
          "text": [
            "Writing demo.txt\n"
          ],
          "name": "stdout"
        }
      ]
    },
    {
      "cell_type": "code",
      "metadata": {
        "id": "E9Ao_A9UTNgx",
        "colab_type": "code",
        "colab": {
          "base_uri": "https://localhost:8080/",
          "height": 34
        },
        "outputId": "4a27d3c4-f50d-47d2-b8a5-2686725f0130"
      },
      "source": [
        "try:\n",
        "    \n",
        "    file = open(\"demo.txt\",\"r\")\n",
        "    \n",
        "    file.write(\"\\nI am Doing B.Sc Computer Science \")\n",
        "    \n",
        "    print(\"-----Sucessful-----.\")\n",
        "    \n",
        "except Exception as ex:\n",
        "    \n",
        "    print(\"There is some error in  this program :\",ex)\n",
        "  "
      ],
      "execution_count": 26,
      "outputs": [
        {
          "output_type": "stream",
          "text": [
            "There is some error in  this program : not writable\n"
          ],
          "name": "stdout"
        }
      ]
    }
  ]
}