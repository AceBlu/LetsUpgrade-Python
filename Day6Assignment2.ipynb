{
  "nbformat": 4,
  "nbformat_minor": 0,
  "metadata": {
    "colab": {
      "name": "Day6Assignment2.ipynb",
      "provenance": [],
      "authorship_tag": "ABX9TyMRzro2RextJTyoNqSjfRUW",
      "include_colab_link": true
    },
    "kernelspec": {
      "name": "python3",
      "display_name": "Python 3"
    }
  },
  "cells": [
    {
      "cell_type": "markdown",
      "metadata": {
        "id": "view-in-github",
        "colab_type": "text"
      },
      "source": [
        "<a href=\"https://colab.research.google.com/github/AceBlu/LetsUpgrade-Python/blob/master/Day6Assignment2.ipynb\" target=\"_parent\"><img src=\"https://colab.research.google.com/assets/colab-badge.svg\" alt=\"Open In Colab\"/></a>"
      ]
    },
    {
      "cell_type": "code",
      "metadata": {
        "id": "lQIcIlDdgKzp",
        "colab_type": "code",
        "colab": {
          "base_uri": "https://localhost:8080/",
          "height": 221
        },
        "outputId": "aba75844-a591-4a41-f2ca-900516865f01"
      },
      "source": [
        "import math\n",
        "class Createcone():\n",
        "  def __init__(self,Radius,Height):\n",
        "    self.Radius=Radius\n",
        "    self.Height=Height\n",
        "  def volume(self):\n",
        "    vol=math.pi*pow(self.Radius,2)*(self.Height/3)\n",
        "    print(\"Volume of the Cone is :\",vol)\n",
        "  def surfaceArea(self):\n",
        "    side=math.sqrt(pow(self.Height,2)+pow(self.Radius,2))\n",
        "    suf=math.pi*self.Radius*(self.Radius+side)\n",
        "    print(\"Surface Area of the Cone is:\",suf)\n",
        "choice=\"y\"\n",
        "while choice.lower() == \"y\":\n",
        "  radius=float(input(\"Enter radius of the Cone:\"))\n",
        "  height=float(input(\"Enter Height of the Cone:\"))\n",
        "  cone=Createcone(radius,height)\n",
        "  cone.volume()\n",
        "  cone.surfaceArea()\n",
        "  choice=input(\"\\nWant to Enter more (y/n):\")\n",
        "print(\"----Thank You----\")\n",
        "\n",
        "\n",
        "  "
      ],
      "execution_count": 23,
      "outputs": [
        {
          "output_type": "stream",
          "text": [
            "Enter radius of the Cone:2\n",
            "Enter Height of the Cone:2\n",
            "Volume of the Cone is : 8.377580409572781\n",
            "Surface Area of the Cone is: 30.337902366992637\n",
            "\n",
            "Want to Enter more (y/n):y\n",
            "Enter radius of the Cone:3\n",
            "Enter Height of the Cone:3.4\n",
            "Volume of the Cone is : 32.044245066615886\n",
            "Surface Area of the Cone is: 71.00923295060564\n",
            "\n",
            "Want to Enter more (y/n):n\n"
          ],
          "name": "stdout"
        }
      ]
    }
  ]
}