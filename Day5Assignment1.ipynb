{
  "nbformat": 4,
  "nbformat_minor": 0,
  "metadata": {
    "colab": {
      "name": "Day5Assignment1.ipynb",
      "provenance": [],
      "collapsed_sections": [],
      "authorship_tag": "ABX9TyNiDiP5SB4Zcs9Q5rAWu2GO",
      "include_colab_link": true
    },
    "kernelspec": {
      "name": "python3",
      "display_name": "Python 3"
    }
  },
  "cells": [
    {
      "cell_type": "markdown",
      "metadata": {
        "id": "view-in-github",
        "colab_type": "text"
      },
      "source": [
        "<a href=\"https://colab.research.google.com/github/AceBlu/LetsUpgrade-Python/blob/master/Day5Assignment1.ipynb\" target=\"_parent\"><img src=\"https://colab.research.google.com/assets/colab-badge.svg\" alt=\"Open In Colab\"/></a>"
      ]
    },
    {
      "cell_type": "code",
      "metadata": {
        "id": "c0piTjJvp9lL",
        "colab_type": "code",
        "colab": {
          "base_uri": "https://localhost:8080/",
          "height": 544
        },
        "outputId": "d18f1943-d346-49fb-9c36-36ac53eb46c6"
      },
      "source": [
        "def matchOrNot(l,lst1):\n",
        "  lst = [1, 1, 5]\n",
        "  i=0\n",
        "  j=0\n",
        "  \n",
        "  for i in range(0,l):\n",
        "    if (lst1[i] == lst[j]):\n",
        "        j += 1\n",
        "        i += 1\n",
        "    else:\n",
        "        i +=1\n",
        "  if ( j == 3 ):\n",
        "\n",
        "    print (\"It's a match\")\n",
        "  else:\n",
        "\n",
        "    print (\"It's Gone\")\n",
        "    \n",
        "   \n",
        "\n",
        "lst1 = [1, 1, 5]\n",
        "choice=\"y\"\n",
        "while choice.lower() == \"y\":\n",
        "  len=int(input(\"\\nEnter the length of the list : \"))\n",
        "  print(\"Enter the number for the list :\")\n",
        "  lst2 = []\n",
        "  for i in range (0,len):\n",
        "    lst2.append(int(input(\">>\")))\n",
        "  print(\"List is : \", lst2)\n",
        "  matchOrNot(len,lst2)\n",
        "  \n",
        "      \n",
        "  choice=input(\"\\nWant to enter Another list(y/n):\")\n",
        "print(\"---Thank You----\")"
      ],
      "execution_count": 58,
      "outputs": [
        {
          "output_type": "stream",
          "text": [
            "\n",
            "Enter the length of the list : 8\n",
            "Enter the number for the list :\n",
            ">>1\n",
            ">>5\n",
            ">>6\n",
            ">>4\n",
            ">>1\n",
            ">>2\n",
            ">>3\n",
            ">>5\n",
            "List is :  [1, 5, 6, 4, 1, 2, 3, 5]\n",
            "It's a match\n",
            "\n",
            "Want to enter Another list(y/n):y\n",
            "\n",
            "Enter the length of the list : 8\n",
            "Enter the number for the list :\n",
            ">>1\n",
            ">>5\n",
            ">>6\n",
            ">>5\n",
            ">>1\n",
            ">>2\n",
            ">>3\n",
            ">>6\n",
            "List is :  [1, 5, 6, 5, 1, 2, 3, 6]\n",
            "It's Gone\n",
            "\n",
            "Want to enter Another list(y/n):n\n",
            "---Thank You----\n"
          ],
          "name": "stdout"
        }
      ]
    }
  ]
}