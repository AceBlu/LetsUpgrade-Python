{
  "nbformat": 4,
  "nbformat_minor": 0,
  "metadata": {
    "colab": {
      "name": "Day6Assignment1.ipynb",
      "provenance": [],
      "collapsed_sections": [],
      "authorship_tag": "ABX9TyPb2KIu4ecMTP+6SKkkVpMh",
      "include_colab_link": true
    },
    "kernelspec": {
      "name": "python3",
      "display_name": "Python 3"
    }
  },
  "cells": [
    {
      "cell_type": "markdown",
      "metadata": {
        "id": "view-in-github",
        "colab_type": "text"
      },
      "source": [
        "<a href=\"https://colab.research.google.com/github/AceBlu/LetsUpgrade-Python/blob/master/Day6Assignment1.ipynb\" target=\"_parent\"><img src=\"https://colab.research.google.com/assets/colab-badge.svg\" alt=\"Open In Colab\"/></a>"
      ]
    },
    {
      "cell_type": "code",
      "metadata": {
        "id": "hEsvrzBF8xV9",
        "colab_type": "code",
        "colab": {
          "base_uri": "https://localhost:8080/",
          "height": 442
        },
        "outputId": "d9650517-1d8d-4e8d-e05e-b1e1b92851f9"
      },
      "source": [
        "class createbankaccount():\n",
        " \n",
        "  def __init__(self,balance=3000,ownerName=\"Null\"):\n",
        "    self.balance=balance\n",
        "    self.ownerName=ownerName\n",
        "  def deposit(self,Damount=0):\n",
        "    self.balance+=Damount\n",
        "    print(\"Transaction Sucessful!\")\n",
        "    print(\"Your Balance is :\",self.balance)\n",
        "    return self.balance\n",
        "  def withdraw(self,Wamount):\n",
        "    self.balance-=Wamount \n",
        "    if self.balance<3000:\n",
        "      print(self.ownerName,\"Your withdrawal amount exceeds the minimum amount please try again!\")\n",
        "      self.balance+=Wamount\n",
        "      print(\"Your Balance is :\",self.balance)\n",
        "    else:\n",
        "       print(\"Transaction Sucessful!\")\n",
        "       print(\"Your Balance is :\",self.balance)\n",
        "    return self.balance\n",
        "\n",
        "name=str(input(\"Enter Your Name Please :\"))\n",
        "print(\"-------WELCOME,-------\",name)\n",
        "balance=int(input(\"Enter The amount that you want to input:\"))\n",
        "user=createbankaccount(balance,name)\n",
        "Amount=0\n",
        "choice=\"y\"\n",
        "while choice.lower() == \"y\":\n",
        "  newch=input(\"----Press W/w for withdrawal----\\n----Press D/d for withdrawal----\\n\")\n",
        "  Amount=int(input(\"Please Enter your amount: \"))\n",
        "  if newch.lower() ==\"w\":\n",
        "    user.withdraw(Amount)\n",
        "  else:\n",
        "    Amount=user.deposit(Amount)\n",
        "\n",
        "  choice=input(\"Want to withdraw or deposit more amount(y/n):\")\n",
        "print(\"----THANK YOU----\")\n",
        "  \n",
        "\n",
        "\n",
        "\n",
        "\n",
        "\n"
      ],
      "execution_count": 16,
      "outputs": [
        {
          "output_type": "stream",
          "text": [
            "Enter Your Name Please :Lucia\n",
            "-------WELCOME,------- Lucia\n",
            "Enter The amount that you want to input:12000\n",
            "----Press W/w for withdrawal----\n",
            "----Press D/d for withdrawal----\n",
            "d\n",
            "Please Enter your amount: 10000\n",
            "Transaction Sucessful!\n",
            "Your Balance is : 22000\n",
            "Want to withdraw or deposit more amount(y/n):y\n",
            "----Press W/w for withdrawal----\n",
            "----Press D/d for withdrawal----\n",
            "w\n",
            "Please Enter your amount: 22000\n",
            "Lucia Your withdrawal amount exceeds the minimum amount please try again!\n",
            "Your Balance is : 22000\n",
            "Want to withdraw or deposit more amount(y/n):y\n",
            "----Press W/w for withdrawal----\n",
            "----Press D/d for withdrawal----\n",
            "w\n",
            "Please Enter your amount: 13000\n",
            "Transaction Sucessful!\n",
            "Your Balance is : 9000\n",
            "Want to withdraw or deposit more amount(y/n):n\n",
            "----THANK YOU----\n"
          ],
          "name": "stdout"
        }
      ]
    }
  ]
}