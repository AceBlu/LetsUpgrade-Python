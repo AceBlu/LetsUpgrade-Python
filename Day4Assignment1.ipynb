{
  "nbformat": 4,
  "nbformat_minor": 0,
  "metadata": {
    "colab": {
      "name": "Day4Assignment1.ipynb",
      "provenance": [],
      "collapsed_sections": [],
      "authorship_tag": "ABX9TyP/ORoVCY7eMBIDCQU0z0+3",
      "include_colab_link": true
    },
    "kernelspec": {
      "name": "python3",
      "display_name": "Python 3"
    }
  },
  "cells": [
    {
      "cell_type": "markdown",
      "metadata": {
        "id": "view-in-github",
        "colab_type": "text"
      },
      "source": [
        "<a href=\"https://colab.research.google.com/github/AceBlu/LetsUpgrade-Python/blob/master/Day4Assignment1.ipynb\" target=\"_parent\"><img src=\"https://colab.research.google.com/assets/colab-badge.svg\" alt=\"Open In Colab\"/></a>"
      ]
    },
    {
      "cell_type": "code",
      "metadata": {
        "id": "NUh1xtYPiPf6",
        "colab_type": "code",
        "colab": {
          "base_uri": "https://localhost:8080/",
          "height": 34
        },
        "outputId": "f53ad0bd-30d3-4a7b-9ca7-9f04436b57c4"
      },
      "source": [
        "num=1042000\n",
        "upper=702648265\n",
        "while num <=upper:\n",
        "  temp=num\n",
        "  sum=0\n",
        "  order = len(str(num))\n",
        "  while temp>0:\n",
        "    arm=temp %10\n",
        "    sum+= arm ** order\n",
        "    temp//= 10\n",
        "    if sum==num:\n",
        "      print (num)\n",
        "      break\n",
        "    else:\n",
        "      num+=1\n",
        "       \n",
        "                                                                                                          "
      ],
      "execution_count": null,
      "outputs": [
        {
          "output_type": "stream",
          "text": [
            "6880123\n"
          ],
          "name": "stdout"
        }
      ]
    }
  ]
}