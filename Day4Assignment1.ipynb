{
  "nbformat": 4,
  "nbformat_minor": 0,
  "metadata": {
    "colab": {
      "name": "Day4Assignment1.ipynb",
      "provenance": [],
      "collapsed_sections": [],
      "authorship_tag": "ABX9TyMcxiH1OXm9R4bUKao3O2ji",
      "include_colab_link": true
    },
    "kernelspec": {
      "name": "python3",
      "display_name": "Python 3"
    }
  },
  "cells": [
    {
      "cell_type": "markdown",
      "metadata": {
        "id": "view-in-github",
        "colab_type": "text"
      },
      "source": [
        "<a href=\"https://colab.research.google.com/github/AceBlu/LetsUpgrade-Python/blob/master/Day4Assignment1.ipynb\" target=\"_parent\"><img src=\"https://colab.research.google.com/assets/colab-badge.svg\" alt=\"Open In Colab\"/></a>"
      ]
    },
    {
      "cell_type": "code",
      "metadata": {
        "id": "NUh1xtYPiPf6",
        "colab_type": "code",
        "colab": {}
      },
      "source": [
        "num=1042000\n",
        "upper=702648265\n",
        "while num <=upper:\n",
        "  temp=num\n",
        "  sum=0\n",
        "  order = len(str(num))\n",
        "  while temp>0:\n",
        "    arm=temp %10\n",
        "    sum+= arm ** order\n",
        "    temp//= 10\n",
        "    if sum==num:\n",
        "      print (num)\n",
        "      break                                                                                                                          "
      ],
      "execution_count": null,
      "outputs": []
    }
  ]
}